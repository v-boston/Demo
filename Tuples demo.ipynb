{
    "cells": [
        {
            "metadata": {
                "collapsed": true
            },
            "cell_type": "markdown",
            "source": "### Tuples Demo"
        },
        {
            "metadata": {},
            "cell_type": "markdown",
            "source": "### Tuple data set can contain all of the following data types : String, Integer, Float"
        },
        {
            "metadata": {},
            "cell_type": "markdown",
            "source": " ###  Creating first tuple :"
        },
        {
            "metadata": {},
            "cell_type": "code",
            "source": "Tuple1 = (\"disco\",10,1,2)",
            "execution_count": 1,
            "outputs": []
        },
        {
            "metadata": {},
            "cell_type": "code",
            "source": "Tuple1",
            "execution_count": 4,
            "outputs": [
                {
                    "output_type": "execute_result",
                    "execution_count": 4,
                    "data": {
                        "text/plain": "('disco', 10, 1, 2)"
                    },
                    "metadata": {}
                }
            ]
        },
        {
            "metadata": {},
            "cell_type": "markdown",
            "source": "*Check the data type of Tuple1*"
        },
        {
            "metadata": {},
            "cell_type": "code",
            "source": "type(Tuple1)",
            "execution_count": 5,
            "outputs": [
                {
                    "output_type": "execute_result",
                    "execution_count": 5,
                    "data": {
                        "text/plain": "tuple"
                    },
                    "metadata": {}
                }
            ]
        },
        {
            "metadata": {},
            "cell_type": "markdown",
            "source": ""
        },
        {
            "metadata": {},
            "cell_type": "markdown",
            "source": "### Tuple can be indexed i.e each element in tuple can be accessed through indexing\nNegative indexing is also possible"
        },
        {
            "metadata": {},
            "cell_type": "code",
            "source": "#Example\nTuple1[0]",
            "execution_count": 8,
            "outputs": [
                {
                    "output_type": "execute_result",
                    "execution_count": 8,
                    "data": {
                        "text/plain": "'disco'"
                    },
                    "metadata": {}
                }
            ]
        },
        {
            "metadata": {},
            "cell_type": "code",
            "source": "Tuple1[1]",
            "execution_count": 9,
            "outputs": [
                {
                    "output_type": "execute_result",
                    "execution_count": 9,
                    "data": {
                        "text/plain": "10"
                    },
                    "metadata": {}
                }
            ]
        },
        {
            "metadata": {},
            "cell_type": "code",
            "source": "Tuple1[-1]",
            "execution_count": 18,
            "outputs": [
                {
                    "output_type": "execute_result",
                    "execution_count": 18,
                    "data": {
                        "text/plain": "2"
                    },
                    "metadata": {}
                }
            ]
        },
        {
            "metadata": {},
            "cell_type": "code",
            "source": "print(Tuple1[0])\nprint(Tuple1[1])\nprint(Tuple1[2]) #It is important to remember that even the commands are case sensitive. Example- print command will throw an error if P upper case is used in the code",
            "execution_count": 15,
            "outputs": [
                {
                    "output_type": "stream",
                    "text": "disco\n10\n1\n",
                    "name": "stdout"
                }
            ]
        },
        {
            "metadata": {},
            "cell_type": "code",
            "source": "# It is also possible to type the data type of each index in a tuple\nprint(type(Tuple1[0]))\nprint(type(Tuple1[1]))\nprint(type(Tuple1[2]))",
            "execution_count": 17,
            "outputs": [
                {
                    "output_type": "stream",
                    "text": "<class 'str'>\n<class 'int'>\n<class 'int'>\n",
                    "name": "stdout"
                }
            ]
        },
        {
            "metadata": {},
            "cell_type": "markdown",
            "source": "Tuples can be concatenated. We will run few examples below -\n\n### Concatenating Tuples"
        },
        {
            "metadata": {},
            "cell_type": "code",
            "source": "#Creating tuple2 \n\nTuple2 = Tuple1 + (\"hard rock\", 10)",
            "execution_count": 20,
            "outputs": []
        },
        {
            "metadata": {},
            "cell_type": "code",
            "source": "Tuple2",
            "execution_count": 21,
            "outputs": [
                {
                    "output_type": "execute_result",
                    "execution_count": 21,
                    "data": {
                        "text/plain": "('disco', 10, 1, 2, 'hard rock', 10)"
                    },
                    "metadata": {}
                }
            ]
        },
        {
            "metadata": {},
            "cell_type": "markdown",
            "source": "### Slicing Tuples"
        },
        {
            "metadata": {},
            "cell_type": "code",
            "source": "#Example - this code will pull the values from Tuple2 from index 0 through index 3. It will not pull the index 4 value. Remember indexing starts with '0' not '1'\nTuple2[0:4]\n",
            "execution_count": 23,
            "outputs": [
                {
                    "output_type": "execute_result",
                    "execution_count": 23,
                    "data": {
                        "text/plain": "('disco', 10, 1, 2)"
                    },
                    "metadata": {}
                }
            ]
        },
        {
            "metadata": {},
            "cell_type": "code",
            "source": "print(Tuple2[0:3])\nprint(Tuple2[3:7]) #There is no index 7 available in Tuple2. Inorder to pull the value available at Index6, I have chosen to use the indexing 3:7",
            "execution_count": 25,
            "outputs": [
                {
                    "output_type": "stream",
                    "text": "('disco', 10, 1)\n(2, 'hard rock', 10)\n",
                    "name": "stdout"
                }
            ]
        },
        {
            "metadata": {},
            "cell_type": "markdown",
            "source": "# Sorting"
        },
        {
            "metadata": {},
            "cell_type": "code",
            "source": "# A sample tuple\n\nRatings = (0, 9, 6, 5, 10, 8, 9, 6, 2)",
            "execution_count": 26,
            "outputs": []
        },
        {
            "metadata": {},
            "cell_type": "code",
            "source": "Ratings_Sorted = sorted(Ratings)",
            "execution_count": 28,
            "outputs": []
        },
        {
            "metadata": {},
            "cell_type": "code",
            "source": "Ratings_Sorted",
            "execution_count": 29,
            "outputs": [
                {
                    "output_type": "execute_result",
                    "execution_count": 29,
                    "data": {
                        "text/plain": "[0, 2, 5, 6, 6, 8, 9, 9, 10]"
                    },
                    "metadata": {}
                }
            ]
        },
        {
            "metadata": {},
            "cell_type": "markdown",
            "source": "# Nested Tuple - A tuple can be nested i.e a tuple can contain more than 1 tuple inside it or it can also contain more complex data types. "
        },
        {
            "metadata": {},
            "cell_type": "code",
            "source": "NT = (1,2,(\"pop\",\"rock\"),(3.4),(\"disco\",(1,2)))",
            "execution_count": 30,
            "outputs": []
        },
        {
            "metadata": {},
            "cell_type": "code",
            "source": "print(type(NT))",
            "execution_count": 32,
            "outputs": [
                {
                    "output_type": "stream",
                    "text": "<class 'tuple'>\n",
                    "name": "stdout"
                }
            ]
        },
        {
            "metadata": {},
            "cell_type": "code",
            "source": "#Indexing Nested tuple -\nprint(NT[0])\nprint(NT[4])",
            "execution_count": 37,
            "outputs": [
                {
                    "output_type": "stream",
                    "text": "1\n('disco', (1, 2))\n",
                    "name": "stdout"
                }
            ]
        },
        {
            "metadata": {},
            "cell_type": "markdown",
            "source": "Python will throw an error if you run an index that does not exist. In the example nested tuple NT, we only have upto 4 indexes. 0 through 4. so NT[0:5] will throw an out of range error. "
        },
        {
            "metadata": {},
            "cell_type": "code",
            "source": "#Example:\nprint(NT[5])",
            "execution_count": 39,
            "outputs": [
                {
                    "output_type": "error",
                    "ename": "IndexError",
                    "evalue": "tuple index out of range",
                    "traceback": [
                        "\u001b[0;31m---------------------------------------------------------------------------\u001b[0m",
                        "\u001b[0;31mIndexError\u001b[0m                                Traceback (most recent call last)",
                        "\u001b[0;32m<ipython-input-39-b5439a3be2e7>\u001b[0m in \u001b[0;36m<module>\u001b[0;34m\u001b[0m\n\u001b[1;32m      1\u001b[0m \u001b[0;31m#Example:\u001b[0m\u001b[0;34m\u001b[0m\u001b[0;34m\u001b[0m\u001b[0;34m\u001b[0m\u001b[0m\n\u001b[0;32m----> 2\u001b[0;31m \u001b[0mprint\u001b[0m\u001b[0;34m(\u001b[0m\u001b[0mNT\u001b[0m\u001b[0;34m[\u001b[0m\u001b[0;36m5\u001b[0m\u001b[0;34m]\u001b[0m\u001b[0;34m)\u001b[0m\u001b[0;34m\u001b[0m\u001b[0;34m\u001b[0m\u001b[0m\n\u001b[0m",
                        "\u001b[0;31mIndexError\u001b[0m: tuple index out of range"
                    ]
                }
            ]
        },
        {
            "metadata": {},
            "cell_type": "code",
            "source": "#we can also run indexing for a tuple inside of a tuple\n#examples below -\nNT[4][1] # this command results ina value at index 1 within the index 4 of the main class tuple. ",
            "execution_count": 42,
            "outputs": [
                {
                    "output_type": "execute_result",
                    "execution_count": 42,
                    "data": {
                        "text/plain": "(1, 2)"
                    },
                    "metadata": {}
                }
            ]
        },
        {
            "metadata": {},
            "cell_type": "code",
            "source": "# Print element on each index, including nest indexes\n\nprint(\"Element 2, 0 of Tuple: \",   NT[2][0])\nprint(\"Element 2, 1 of Tuple: \",   NT[2][1])",
            "execution_count": 45,
            "outputs": [
                {
                    "output_type": "stream",
                    "text": "Element 2, 0 of Tuple:  pop\nElement 2, 1 of Tuple:  rock\n",
                    "name": "stdout"
                }
            ]
        },
        {
            "metadata": {},
            "cell_type": "code",
            "source": "#we can also access the string value within an index. \n#example:\nprint(NT[2][0][0])\nprint(NT[2][0][1])\nprint(NT[2][0][2])",
            "execution_count": 47,
            "outputs": [
                {
                    "output_type": "stream",
                    "text": "p\no\np\n",
                    "name": "stdout"
                }
            ]
        },
        {
            "metadata": {},
            "cell_type": "markdown",
            "source": "Mutiple levels of indexing is possible. In the example above we can even go to level 4 or level 5 indexing. Think of it a tree of indexes"
        },
        {
            "metadata": {},
            "cell_type": "code",
            "source": "",
            "execution_count": null,
            "outputs": []
        }
    ],
    "metadata": {
        "kernelspec": {
            "name": "python3",
            "display_name": "Python 3.6",
            "language": "python"
        },
        "language_info": {
            "name": "python",
            "version": "3.6.9",
            "mimetype": "text/x-python",
            "codemirror_mode": {
                "name": "ipython",
                "version": 3
            },
            "pygments_lexer": "ipython3",
            "nbconvert_exporter": "python",
            "file_extension": ".py"
        }
    },
    "nbformat": 4,
    "nbformat_minor": 1
}